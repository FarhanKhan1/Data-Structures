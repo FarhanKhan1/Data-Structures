{
  "nbformat": 4,
  "nbformat_minor": 0,
  "metadata": {
    "colab": {
      "provenance": [],
      "collapsed_sections": [],
      "authorship_tag": "ABX9TyO+WFWv0nEez663ad5fXO1o",
      "include_colab_link": true
    },
    "kernelspec": {
      "name": "python3",
      "display_name": "Python 3"
    },
    "language_info": {
      "name": "python"
    }
  },
  "cells": [
    {
      "cell_type": "markdown",
      "metadata": {
        "id": "view-in-github",
        "colab_type": "text"
      },
      "source": [
        "<a href=\"https://colab.research.google.com/github/FarhanKhan1/Data-Structures/blob/main/Queue.ipynb\" target=\"_parent\"><img src=\"https://colab.research.google.com/assets/colab-badge.svg\" alt=\"Open In Colab\"/></a>"
      ]
    },
    {
      "cell_type": "code",
      "execution_count": 1,
      "metadata": {
        "colab": {
          "base_uri": "https://localhost:8080/"
        },
        "id": "yw6PdLvk1u17",
        "outputId": "e8e7af9c-c230-4794-d16a-8a40fd9b13ac"
      },
      "outputs": [
        {
          "output_type": "stream",
          "name": "stdout",
          "text": [
            "[15, 12]\n"
          ]
        }
      ],
      "source": [
        "class queue:\n",
        "    def __init__(self):\n",
        "        self.queue = []\n",
        "    \n",
        "    def enqueue(self,a):\n",
        "        if self.is_full():\n",
        "            print(\"Queue is full\")\n",
        "        else:\n",
        "            self.queue.insert(0,a)\n",
        "    def dequeue(self):\n",
        "        if self.is_empty():\n",
        "            print(\"Queue is empty\")\n",
        "        else:\n",
        "            self.queue.pop()\n",
        "    def is_full(self):\n",
        "        return len(self.queue) == 10\n",
        "    def is_empty(self):\n",
        "        return len(self.queue) == 0\n",
        "obj_que = queue()\n",
        "obj_que.enqueue(10)\n",
        "obj_que.enqueue(12)\n",
        "obj_que.enqueue(15)\n",
        "obj_que.dequeue()\n",
        "print(obj_que.queue)"
      ]
    },
    {
      "cell_type": "code",
      "source": [],
      "metadata": {
        "id": "JLTgcdNy1xyF"
      },
      "execution_count": null,
      "outputs": []
    }
  ]
}