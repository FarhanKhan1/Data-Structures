{
  "nbformat": 4,
  "nbformat_minor": 0,
  "metadata": {
    "colab": {
      "provenance": [],
      "collapsed_sections": [],
      "authorship_tag": "ABX9TyOKY7oQrdiEWUkawPF4Z8J3",
      "include_colab_link": true
    },
    "kernelspec": {
      "name": "python3",
      "display_name": "Python 3"
    },
    "language_info": {
      "name": "python"
    }
  },
  "cells": [
    {
      "cell_type": "markdown",
      "metadata": {
        "id": "view-in-github",
        "colab_type": "text"
      },
      "source": [
        "<a href=\"https://colab.research.google.com/github/FarhanKhan1/Data-Structures/blob/main/Stack.ipynb\" target=\"_parent\"><img src=\"https://colab.research.google.com/assets/colab-badge.svg\" alt=\"Open In Colab\"/></a>"
      ]
    },
    {
      "cell_type": "code",
      "execution_count": 1,
      "metadata": {
        "colab": {
          "base_uri": "https://localhost:8080/"
        },
        "id": "Vel6TRsD0Y7o",
        "outputId": "98f3cf9c-dd19-401d-aa48-74b3167fcf68"
      },
      "outputs": [
        {
          "output_type": "stream",
          "name": "stdout",
          "text": [
            "Enter 1: push(), 2:pop()1\n",
            "Enter a number to push: 12\n",
            "['12']\n",
            "Enter 1: push(), 2:pop()1\n",
            "Enter a number to push: 32\n",
            "['12', '32']\n",
            "Enter 1: push(), 2:pop()43\n",
            "13\n",
            "[12]\n"
          ]
        }
      ],
      "source": [
        " stack = []\n",
        " def push_(a):\n",
        "     if is_full():\n",
        "         print(\"Stack is full\")\n",
        "     else:\n",
        "         stack.append(a)\n",
        "         print(stack)\n",
        "\n",
        " def pop_():\n",
        "     if is_empty():\n",
        "         print(\"Stack is empty\")\n",
        "     else:\n",
        "         print(stack.pop())\n",
        "         print(stack)\n",
        "\n",
        " def is_empty():\n",
        "     return len(stack)==0\n",
        "\n",
        " def is_full():\n",
        "     return len(stack)==10\n",
        "\n",
        " while True:\n",
        "     choice = int(input(\"Enter 1: push(), 2:pop()\"))\n",
        "\n",
        "     if choice == 1:\n",
        "         val = input(\"Enter a number to push: \")\n",
        "         push_(val)\n",
        "    \n",
        "     elif choice == 2:\n",
        "         pop_()\n",
        "    \n",
        "     else:\n",
        "         break\n",
        "\n",
        "#With OOP\n",
        "\n",
        "class Stack:\n",
        "    def __init__(self):\n",
        "        self.stack = []\n",
        "\n",
        "    def push(self, a):\n",
        "        if self.is_full():\n",
        "            print(\"Stack is full\")\n",
        "        else:\n",
        "            self.stack.append(a)\n",
        "\n",
        "    def pop(self):\n",
        "        if self.is_empty():\n",
        "            print(\"Stack is Empty, Push some elements first\")\n",
        "        else:\n",
        "            print(self.stack.pop())\n",
        "\n",
        "    def is_empty(self):  \n",
        "        return len(self.stack) == 0\n",
        "\n",
        "    def is_full(self):\n",
        "        return len(self.stack)==10\n",
        "\n",
        "\n",
        "\n",
        "stack_obj = Stack()\n",
        "   \n",
        "stack_obj.push(12)\n",
        "stack_obj.push(13)\n",
        "stack_obj.pop()\n",
        "print(stack_obj.stack)\n",
        "\n"
      ]
    }
  ]
}